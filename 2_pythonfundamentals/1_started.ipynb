{
 "cells": [
  {
   "cell_type": "markdown",
   "metadata": {},
   "source": [
    "# **Arrays**\n",
    "\n",
    "En Python, un **array** es una estructura de datos que organiza elementos (números, cadenas, etc.) en un formato similar a una matriz matemática, donde los elementos están indexados en posiciones específicas. A diferencia de las matrices matemáticas, el índice en un array comienza desde **0**, no desde 1.\n",
    "\n",
    "Por ejemplo, para un array unidimensional:  \n",
    "$$ a = [a_0, a_1, a_2, \\dots, a_{n-1}] $$  \n",
    "- Aquí, $(a_0)$ es el primer elemento y está en la posición 0.  \n",
    "- El último elemento, $(a_{n-1})$, está en la posición $(n-1)$, donde $(n)$ es el tamaño del array.\n",
    "- Usualmente los arrays unidemensionales se escriben en minusculas\n",
    "\n",
    "Para un array bidimensional (o matriz):  \n",
    "$$\n",
    "A = \\begin{bmatrix} \n",
    "a_{0,0} & a_{0,1} & a_{0,2} \\\\\n",
    "a_{1,0} & a_{1,1} & a_{1,2} \\\\\n",
    "a_{2,0} & a_{2,1} & a_{2,2}\n",
    "\\end{bmatrix}\n",
    "$$\n",
    "- Aquí, $(a_{0,0})$ representa el elemento en la primera fila y primera columna (índices `[0][0]`).\n",
    "- Usualmente los arrays unidemensionales se escriben en minusculas\n",
    "\n",
    "\n",
    "El uso de índices que empiezan desde 0 es una convención de Python y de muchos lenguajes de programación, lo que permite un acceso eficiente a los elementos.\n"
   ]
  },
  {
   "cell_type": "code",
   "execution_count": 1,
   "metadata": {},
   "outputs": [],
   "source": [
    "#Importación de librerias\n",
    "import numpy as np"
   ]
  },
  {
   "cell_type": "code",
   "execution_count": 12,
   "metadata": {},
   "outputs": [
    {
     "name": "stdout",
     "output_type": "stream",
     "text": [
      "[[ 2  4  3  7]\n",
      " [ 9  3 -1  2]\n",
      " [ 1  9  3  7]\n",
      " [ 6  6  3  7]]\n"
     ]
    }
   ],
   "source": [
    "#Creación de arrays\n",
    "A = np.array([[2,4,3,7],[9,3,-1,2],[1,9,3,7],[6,6,3,7]])\n",
    "\n",
    "print(A)"
   ]
  },
  {
   "cell_type": "code",
   "execution_count": 7,
   "metadata": {},
   "outputs": [
    {
     "name": "stdout",
     "output_type": "stream",
     "text": [
      "[18 22  8 23]\n"
     ]
    }
   ],
   "source": [
    "print(sum(A))"
   ]
  },
  {
   "cell_type": "code",
   "execution_count": 8,
   "metadata": {},
   "outputs": [
    {
     "name": "stdout",
     "output_type": "stream",
     "text": [
      "71\n"
     ]
    }
   ],
   "source": [
    "b=sum(sum(A))\n",
    "print(b)"
   ]
  },
  {
   "cell_type": "code",
   "execution_count": 9,
   "metadata": {},
   "outputs": [
    {
     "name": "stdout",
     "output_type": "stream",
     "text": [
      "Help on built-in function sum in module builtins:\n",
      "\n",
      "sum(iterable, /, start=0)\n",
      "    Return the sum of a 'start' value (default: 0) plus an iterable of numbers\n",
      "    \n",
      "    When the iterable is empty, return the start value.\n",
      "    This function is intended specifically for use with numeric values and may\n",
      "    reject non-numeric types.\n",
      "\n"
     ]
    }
   ],
   "source": [
    "#La función suma proviene de la colección estandar de Python\n",
    "help(sum)"
   ]
  },
  {
   "cell_type": "code",
   "execution_count": 11,
   "metadata": {},
   "outputs": [
    {
     "name": "stdout",
     "output_type": "stream",
     "text": [
      "71\n"
     ]
    }
   ],
   "source": [
    "b = np.sum(A)\n",
    "print(b)"
   ]
  },
  {
   "cell_type": "markdown",
   "metadata": {},
   "source": [
    "%whos enlista las variables en el workspace con información sobre el tipo y tamaño"
   ]
  },
  {
   "cell_type": "code",
   "execution_count": 12,
   "metadata": {},
   "outputs": [
    {
     "name": "stdout",
     "output_type": "stream",
     "text": [
      "Variable   Type       Data/Info\n",
      "-------------------------------\n",
      "A          ndarray    4x4: 16 elems, type `int64`, 128 bytes\n",
      "b          int64      71\n",
      "np         module     <module 'numpy' from '/ho<...>kages/numpy/__init__.py'>\n",
      "numpy      module     <module 'numpy' from '/ho<...>kages/numpy/__init__.py'>\n"
     ]
    }
   ],
   "source": [
    "%whos"
   ]
  },
  {
   "cell_type": "code",
   "execution_count": 13,
   "metadata": {},
   "outputs": [
    {
     "name": "stdout",
     "output_type": "stream",
     "text": [
      "Name            Shape            Bytes            Type\n",
      "===========================================================\n",
      "\n",
      "_               4 x 4            128              int64\n",
      "A               4 x 4            128              int64\n",
      "_5 (_)          4 x 4            128              int64\n",
      "\n",
      "Upper bound on total bytes  =       256\n"
     ]
    }
   ],
   "source": [
    "np.who()"
   ]
  },
  {
   "cell_type": "code",
   "execution_count": 20,
   "metadata": {},
   "outputs": [
    {
     "data": {
      "text/plain": [
       "array([[ 2,  4,  3,  7],\n",
       "       [ 9,  3, -1,  2],\n",
       "       [ 1,  9,  3,  7],\n",
       "       [ 6,  6,  3,  7]])"
      ]
     },
     "execution_count": 20,
     "metadata": {},
     "output_type": "execute_result"
    }
   ],
   "source": [
    "A"
   ]
  },
  {
   "cell_type": "code",
   "execution_count": 19,
   "metadata": {},
   "outputs": [
    {
     "data": {
      "text/plain": [
       "9"
      ]
     },
     "execution_count": 19,
     "metadata": {},
     "output_type": "execute_result"
    }
   ],
   "source": [
    "'''\n",
    "A[2][1] accede al elemento de la tercera fila y segunda columna, que es 9.\n",
    "'''\n",
    "\n",
    "A[2,1]\n"
   ]
  },
  {
   "cell_type": "code",
   "execution_count": 21,
   "metadata": {},
   "outputs": [
    {
     "data": {
      "text/plain": [
       "array([[ 2,  4,  3,  7],\n",
       "       [ 9,  3, -1,  2],\n",
       "       [ 1, 30,  3,  7],\n",
       "       [ 6,  6,  3,  7]])"
      ]
     },
     "execution_count": 21,
     "metadata": {},
     "output_type": "execute_result"
    }
   ],
   "source": [
    "# Reemplazo del termino A[2,1] por uno nuevo\n",
    "A[2,1]= 30\n",
    "A"
   ]
  },
  {
   "cell_type": "code",
   "execution_count": 24,
   "metadata": {},
   "outputs": [
    {
     "name": "stdout",
     "output_type": "stream",
     "text": [
      "[[ 2  4  3  7]\n",
      " [ 9  3 -1  2]\n",
      " [ 1  3  3  5]\n",
      " [ 6  6  3  7]]\n"
     ]
    }
   ],
   "source": [
    "#Remplazar varios elementos de la tercera fila\n",
    "A[2,0:4]=[1, 3,  3, 5]\n",
    "\n",
    "print(A)"
   ]
  },
  {
   "cell_type": "markdown",
   "metadata": {},
   "source": [
    "## **Creación de arrays**"
   ]
  },
  {
   "cell_type": "markdown",
   "metadata": {},
   "source": [
    "\n",
    "**`np.arange`** es una función en NumPy, una librería popular para cálculos numéricos en Python, que se utiliza para crear arrays con valores espaciados uniformemente dentro de un intervalo definido. La función sigue la notación de intervalo [start, stop), es decir, incluye el valor inicial (start) pero excluye el valor final (stop)."
   ]
  },
  {
   "cell_type": "code",
   "execution_count": 3,
   "metadata": {},
   "outputs": [
    {
     "name": "stdout",
     "output_type": "stream",
     "text": [
      "[0 1 2 3 4 5 6 7 8 9]\n"
     ]
    }
   ],
   "source": [
    "c=np.arange(0,10)\n",
    "\n",
    "print(c)"
   ]
  },
  {
   "cell_type": "code",
   "execution_count": 9,
   "metadata": {},
   "outputs": [
    {
     "name": "stdout",
     "output_type": "stream",
     "text": [
      "[ 1.   1.5  2.   2.5  3.   3.5  4.   4.5  5.   5.5  6.   6.5  7.   7.5\n",
      "  8.   8.5  9.   9.5 10. ]\n"
     ]
    }
   ],
   "source": [
    "c = np.arange(1,10+0.5,0.5)\n",
    "print(c)"
   ]
  },
  {
   "cell_type": "markdown",
   "metadata": {},
   "source": [
    "La función **`np.linspace`** se utiliza para crear arrays con valores igualmente espaciados dentro de un rango especificado. A diferencia de `np.arange`, **incluye ambos extremos del intervalo** por defecto, es decir, utiliza un intervalo cerrado **[start, stop]**."
   ]
  },
  {
   "cell_type": "code",
   "execution_count": 11,
   "metadata": {},
   "outputs": [
    {
     "name": "stdout",
     "output_type": "stream",
     "text": [
      "[ 0.  1.  2.  3.  4.  5.  6.  7.  8.  9. 10.]\n"
     ]
    }
   ],
   "source": [
    "c = np.linspace(0,10,11)\n",
    "\n",
    "print(c)"
   ]
  },
  {
   "cell_type": "code",
   "execution_count": 10,
   "metadata": {},
   "outputs": [
    {
     "name": "stdout",
     "output_type": "stream",
     "text": [
      "[ 1.   1.5  2.   2.5  3.   3.5  4.   4.5  5.   5.5  6.   6.5  7.   7.5\n",
      "  8.   8.5  9.   9.5 10. ]\n"
     ]
    }
   ],
   "source": [
    "c = np.linspace(1,10,19)\n",
    "print(c)"
   ]
  },
  {
   "cell_type": "code",
   "execution_count": 16,
   "metadata": {},
   "outputs": [
    {
     "name": "stdout",
     "output_type": "stream",
     "text": [
      "A = [[ 2  4  3  7]\n",
      " [ 9  3 -1  2]\n",
      " [ 1  9  3  7]\n",
      " [ 6  6  3  7]]\n",
      "B = [[ 4  3  2  6]\n",
      " [ 7  8  6  4]\n",
      " [ 2  1  8 -9]\n",
      " [ 3  1  2  3]]\n"
     ]
    }
   ],
   "source": [
    "B= np.array([[4,3,2,6],[7,8,6,4],[2,1,8,-9],[3,1,2,3]])\n",
    "print('A =',A)\n",
    "print('B =',B)"
   ]
  },
  {
   "cell_type": "markdown",
   "metadata": {},
   "source": [
    "## **Multiplicación de matrices**\n",
    "\n",
    "Esta operación sigue las reglas del álgebra matricial, donde el elemento $c_{ij}$ de la matriz resultante C es el producto escalar de la fila i de la primera matriz y la columna j de la segunda matriz.\n",
    "\n",
    "* Requiere que las dimensiones sean compatibles, es decir, si $A$ es de tamaño $(m \\times n)$, $B$ debe ser $(n \\times p)$.\n",
    "* Se utiliza para cálculos algebraicos, como transformaciones lineales o productos escalares de vectores."
   ]
  },
  {
   "cell_type": "code",
   "execution_count": 27,
   "metadata": {},
   "outputs": [
    {
     "name": "stdout",
     "output_type": "stream",
     "text": [
      "[[ 68  92 -31  37]\n",
      " [ 55  89  -5  34]\n",
      " [ 79 125 -28  39]\n",
      " [ 90 136 -21  51]]\n"
     ]
    }
   ],
   "source": [
    "'''\n",
    "Se utiliza @ para la multiplicación matricial\n",
    "'''\n",
    "\n",
    "C= A@np.transpose(B) #np.transpose Transpone la matriz\n",
    "print(C)"
   ]
  },
  {
   "cell_type": "code",
   "execution_count": 28,
   "metadata": {},
   "outputs": [
    {
     "data": {
      "text/plain": [
       "array([[ True,  True,  True,  True],\n",
       "       [ True,  True,  True,  True],\n",
       "       [ True,  True,  True,  True],\n",
       "       [ True,  True,  True,  True]])"
      ]
     },
     "execution_count": 28,
     "metadata": {},
     "output_type": "execute_result"
    }
   ],
   "source": [
    "'''\n",
    "Otra manera de escribir la multiplicación matricial \n",
    "usando se usa np.matmul()\n",
    "'''\n",
    "C == np.matmul(A,np.transpose(B))"
   ]
  },
  {
   "cell_type": "markdown",
   "metadata": {},
   "source": [
    "## **Multiplicación directa**\n",
    "\n",
    "Esta operación multiplica cada elemento de una matriz por el elemento correspondiente de otra matriz, siguiendo la misma posición.\n",
    "\n",
    "* Ambas matrices deben tener **dimensiones compatibles**(igual tamaño).\n",
    "\n",
    "* Útil en aplicaciones que requieren operaciones punto a punto, como escalamiento de datos o transformaciones personalizadas:"
   ]
  },
  {
   "cell_type": "code",
   "execution_count": 32,
   "metadata": {},
   "outputs": [
    {
     "data": {
      "text/plain": [
       "array([[  8,  12,   6,  42],\n",
       "       [ 63,  24,  -6,   8],\n",
       "       [  2,   9,  24, -63],\n",
       "       [ 18,   6,   6,  21]])"
      ]
     },
     "execution_count": 32,
     "metadata": {},
     "output_type": "execute_result"
    }
   ],
   "source": [
    "'''\n",
    "Usando *(operador de multiplicación directa):\n",
    "'''\n",
    "\n",
    "D=A*B\n",
    "D"
   ]
  },
  {
   "cell_type": "code",
   "execution_count": 34,
   "metadata": {},
   "outputs": [
    {
     "data": {
      "text/plain": [
       "array([[ True,  True,  True,  True],\n",
       "       [ True,  True,  True,  True],\n",
       "       [ True,  True,  True,  True],\n",
       "       [ True,  True,  True,  True]])"
      ]
     },
     "execution_count": 34,
     "metadata": {},
     "output_type": "execute_result"
    }
   ],
   "source": [
    "'''\n",
    "Otra manera de escribir la multiplicación directa \n",
    "es con np.multiply\n",
    "'''\n",
    "A*B==np.multiply(A,B)"
   ]
  }
 ],
 "metadata": {
  "kernelspec": {
   "display_name": "env",
   "language": "python",
   "name": "python3"
  },
  "language_info": {
   "codemirror_mode": {
    "name": "ipython",
    "version": 3
   },
   "file_extension": ".py",
   "mimetype": "text/x-python",
   "name": "python",
   "nbconvert_exporter": "python",
   "pygments_lexer": "ipython3",
   "version": "3.9.19"
  }
 },
 "nbformat": 4,
 "nbformat_minor": 2
}
